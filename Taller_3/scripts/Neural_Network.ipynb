{
  "nbformat": 4,
  "nbformat_minor": 0,
  "metadata": {
    "colab": {
      "provenance": []
    },
    "kernelspec": {
      "name": "ir",
      "display_name": "R"
    },
    "language_info": {
      "name": "R"
    }
  },
  "cells": [
    {
      "cell_type": "code",
      "execution_count": null,
      "metadata": {
        "id": "9ZK9gcaNH5NM"
      },
      "outputs": [],
      "source": [
        "#!pip install rpy2==3.5.1\n",
        "#!pip install -Iv rpy2==3.4.2\n"
      ]
    },
    {
      "cell_type": "code",
      "source": [
        "#%load_ext rpy2.ipython"
      ],
      "metadata": {
        "id": "CInsff4_zidB"
      },
      "execution_count": null,
      "outputs": []
    },
    {
      "cell_type": "code",
      "source": [
        "#%%R\n",
        "#install.packages('tableone')\n",
        "#install.packages(\"keras\")\n",
        "#install.packages(\"tensorflow\")\n",
        "#install.packages(\"tidyverse\")\n",
        "#install.packages(\"googledrive\")\n",
        "#install.packages(\"readr\")\n",
        "#install.packages(\"pacman\")\n",
        "#install.packages(\"caret\")"
      ],
      "metadata": {
        "id": "MXUP9aAtes1s"
      },
      "execution_count": null,
      "outputs": []
    },
    {
      "cell_type": "code",
      "source": [
        "%%R\n",
        "#install.packages(\"pacman\")"
      ],
      "metadata": {
        "id": "M3qcxc8ZIw6q"
      },
      "execution_count": null,
      "outputs": []
    },
    {
      "cell_type": "code",
      "source": [
        "%%R\n",
        "#install.packages(\"caret\")"
      ],
      "metadata": {
        "id": "_T31uJCgkSJP",
        "colab": {
          "base_uri": "https://localhost:8080/"
        },
        "outputId": "3df60e54-12d6-48bf-bdfb-932407d8c1ab"
      },
      "execution_count": null,
      "outputs": [
        {
          "output_type": "stream",
          "name": "stderr",
          "text": [
            "Installing package into ‘/usr/local/lib/R/site-library’\n",
            "(as ‘lib’ is unspecified)\n",
            "\n",
            "also installing the dependencies ‘future.apply’, ‘lava’, ‘prodlim’, ‘ipred’, ‘pROC’, ‘recipes’\n",
            "\n",
            "\n"
          ]
        }
      ]
    },
    {
      "cell_type": "code",
      "source": [
        "#%%R\n",
        "\n",
        "library(googledrive)\n",
        "library(keras)\n",
        "library(tensorflow)\n",
        "library(tidyverse)\n",
        "library(readr)\n",
        "library(dplyr)\n",
        "library(caret)"
      ],
      "metadata": {
        "id": "cRWSQV0fF02V",
        "outputId": "878f1c46-fa93-4136-d59f-0e7705a02a48",
        "colab": {
          "base_uri": "https://localhost:8080/"
        }
      },
      "execution_count": 1,
      "outputs": [
        {
          "output_type": "stream",
          "name": "stderr",
          "text": [
            "── \u001b[1mAttaching core tidyverse packages\u001b[22m ──────────────────────── tidyverse 2.0.0 ──\n",
            "\u001b[32m✔\u001b[39m \u001b[34mdplyr    \u001b[39m 1.1.2     \u001b[32m✔\u001b[39m \u001b[34mreadr    \u001b[39m 2.1.4\n",
            "\u001b[32m✔\u001b[39m \u001b[34mforcats  \u001b[39m 1.0.0     \u001b[32m✔\u001b[39m \u001b[34mstringr  \u001b[39m 1.5.0\n",
            "\u001b[32m✔\u001b[39m \u001b[34mggplot2  \u001b[39m 3.4.2     \u001b[32m✔\u001b[39m \u001b[34mtibble   \u001b[39m 3.2.1\n",
            "\u001b[32m✔\u001b[39m \u001b[34mlubridate\u001b[39m 1.9.2     \u001b[32m✔\u001b[39m \u001b[34mtidyr    \u001b[39m 1.3.0\n",
            "\u001b[32m✔\u001b[39m \u001b[34mpurrr    \u001b[39m 1.0.1     \n",
            "── \u001b[1mConflicts\u001b[22m ────────────────────────────────────────── tidyverse_conflicts() ──\n",
            "\u001b[31m✖\u001b[39m \u001b[34mdplyr\u001b[39m::\u001b[32mfilter()\u001b[39m masks \u001b[34mstats\u001b[39m::filter()\n",
            "\u001b[31m✖\u001b[39m \u001b[34mdplyr\u001b[39m::\u001b[32mlag()\u001b[39m    masks \u001b[34mstats\u001b[39m::lag()\n",
            "\u001b[36mℹ\u001b[39m Use the conflicted package (\u001b[3m\u001b[34m<http://conflicted.r-lib.org/>\u001b[39m\u001b[23m) to force all conflicts to become errors\n",
            "Loading required package: lattice\n",
            "\n",
            "\n",
            "Attaching package: ‘caret’\n",
            "\n",
            "\n",
            "The following object is masked from ‘package:purrr’:\n",
            "\n",
            "    lift\n",
            "\n",
            "\n",
            "The following object is masked from ‘package:tensorflow’:\n",
            "\n",
            "    train\n",
            "\n",
            "\n"
          ]
        }
      ]
    },
    {
      "cell_type": "code",
      "source": [
        "#This is python environment\n",
        "#from google.colab import files\n",
        "\n",
        "#uploaded = files.upload()\n"
      ],
      "metadata": {
        "colab": {
          "base_uri": "https://localhost:8080/",
          "height": 366
        },
        "id": "Cr0U4SIoYFcS",
        "outputId": "f1c3c42f-4578-4b36-c697-6b0cc957d1d6"
      },
      "execution_count": null,
      "outputs": [
        {
          "output_type": "display_data",
          "data": {
            "text/plain": [
              "<IPython.core.display.HTML object>"
            ],
            "text/html": [
              "\n",
              "     <input type=\"file\" id=\"files-cdedda84-7315-4be4-8a00-d752786a4140\" name=\"files[]\" multiple disabled\n",
              "        style=\"border:none\" />\n",
              "     <output id=\"result-cdedda84-7315-4be4-8a00-d752786a4140\">\n",
              "      Upload widget is only available when the cell has been executed in the\n",
              "      current browser session. Please rerun this cell to enable.\n",
              "      </output>\n",
              "      <script>// Copyright 2017 Google LLC\n",
              "//\n",
              "// Licensed under the Apache License, Version 2.0 (the \"License\");\n",
              "// you may not use this file except in compliance with the License.\n",
              "// You may obtain a copy of the License at\n",
              "//\n",
              "//      http://www.apache.org/licenses/LICENSE-2.0\n",
              "//\n",
              "// Unless required by applicable law or agreed to in writing, software\n",
              "// distributed under the License is distributed on an \"AS IS\" BASIS,\n",
              "// WITHOUT WARRANTIES OR CONDITIONS OF ANY KIND, either express or implied.\n",
              "// See the License for the specific language governing permissions and\n",
              "// limitations under the License.\n",
              "\n",
              "/**\n",
              " * @fileoverview Helpers for google.colab Python module.\n",
              " */\n",
              "(function(scope) {\n",
              "function span(text, styleAttributes = {}) {\n",
              "  const element = document.createElement('span');\n",
              "  element.textContent = text;\n",
              "  for (const key of Object.keys(styleAttributes)) {\n",
              "    element.style[key] = styleAttributes[key];\n",
              "  }\n",
              "  return element;\n",
              "}\n",
              "\n",
              "// Max number of bytes which will be uploaded at a time.\n",
              "const MAX_PAYLOAD_SIZE = 100 * 1024;\n",
              "\n",
              "function _uploadFiles(inputId, outputId) {\n",
              "  const steps = uploadFilesStep(inputId, outputId);\n",
              "  const outputElement = document.getElementById(outputId);\n",
              "  // Cache steps on the outputElement to make it available for the next call\n",
              "  // to uploadFilesContinue from Python.\n",
              "  outputElement.steps = steps;\n",
              "\n",
              "  return _uploadFilesContinue(outputId);\n",
              "}\n",
              "\n",
              "// This is roughly an async generator (not supported in the browser yet),\n",
              "// where there are multiple asynchronous steps and the Python side is going\n",
              "// to poll for completion of each step.\n",
              "// This uses a Promise to block the python side on completion of each step,\n",
              "// then passes the result of the previous step as the input to the next step.\n",
              "function _uploadFilesContinue(outputId) {\n",
              "  const outputElement = document.getElementById(outputId);\n",
              "  const steps = outputElement.steps;\n",
              "\n",
              "  const next = steps.next(outputElement.lastPromiseValue);\n",
              "  return Promise.resolve(next.value.promise).then((value) => {\n",
              "    // Cache the last promise value to make it available to the next\n",
              "    // step of the generator.\n",
              "    outputElement.lastPromiseValue = value;\n",
              "    return next.value.response;\n",
              "  });\n",
              "}\n",
              "\n",
              "/**\n",
              " * Generator function which is called between each async step of the upload\n",
              " * process.\n",
              " * @param {string} inputId Element ID of the input file picker element.\n",
              " * @param {string} outputId Element ID of the output display.\n",
              " * @return {!Iterable<!Object>} Iterable of next steps.\n",
              " */\n",
              "function* uploadFilesStep(inputId, outputId) {\n",
              "  const inputElement = document.getElementById(inputId);\n",
              "  inputElement.disabled = false;\n",
              "\n",
              "  const outputElement = document.getElementById(outputId);\n",
              "  outputElement.innerHTML = '';\n",
              "\n",
              "  const pickedPromise = new Promise((resolve) => {\n",
              "    inputElement.addEventListener('change', (e) => {\n",
              "      resolve(e.target.files);\n",
              "    });\n",
              "  });\n",
              "\n",
              "  const cancel = document.createElement('button');\n",
              "  inputElement.parentElement.appendChild(cancel);\n",
              "  cancel.textContent = 'Cancel upload';\n",
              "  const cancelPromise = new Promise((resolve) => {\n",
              "    cancel.onclick = () => {\n",
              "      resolve(null);\n",
              "    };\n",
              "  });\n",
              "\n",
              "  // Wait for the user to pick the files.\n",
              "  const files = yield {\n",
              "    promise: Promise.race([pickedPromise, cancelPromise]),\n",
              "    response: {\n",
              "      action: 'starting',\n",
              "    }\n",
              "  };\n",
              "\n",
              "  cancel.remove();\n",
              "\n",
              "  // Disable the input element since further picks are not allowed.\n",
              "  inputElement.disabled = true;\n",
              "\n",
              "  if (!files) {\n",
              "    return {\n",
              "      response: {\n",
              "        action: 'complete',\n",
              "      }\n",
              "    };\n",
              "  }\n",
              "\n",
              "  for (const file of files) {\n",
              "    const li = document.createElement('li');\n",
              "    li.append(span(file.name, {fontWeight: 'bold'}));\n",
              "    li.append(span(\n",
              "        `(${file.type || 'n/a'}) - ${file.size} bytes, ` +\n",
              "        `last modified: ${\n",
              "            file.lastModifiedDate ? file.lastModifiedDate.toLocaleDateString() :\n",
              "                                    'n/a'} - `));\n",
              "    const percent = span('0% done');\n",
              "    li.appendChild(percent);\n",
              "\n",
              "    outputElement.appendChild(li);\n",
              "\n",
              "    const fileDataPromise = new Promise((resolve) => {\n",
              "      const reader = new FileReader();\n",
              "      reader.onload = (e) => {\n",
              "        resolve(e.target.result);\n",
              "      };\n",
              "      reader.readAsArrayBuffer(file);\n",
              "    });\n",
              "    // Wait for the data to be ready.\n",
              "    let fileData = yield {\n",
              "      promise: fileDataPromise,\n",
              "      response: {\n",
              "        action: 'continue',\n",
              "      }\n",
              "    };\n",
              "\n",
              "    // Use a chunked sending to avoid message size limits. See b/62115660.\n",
              "    let position = 0;\n",
              "    do {\n",
              "      const length = Math.min(fileData.byteLength - position, MAX_PAYLOAD_SIZE);\n",
              "      const chunk = new Uint8Array(fileData, position, length);\n",
              "      position += length;\n",
              "\n",
              "      const base64 = btoa(String.fromCharCode.apply(null, chunk));\n",
              "      yield {\n",
              "        response: {\n",
              "          action: 'append',\n",
              "          file: file.name,\n",
              "          data: base64,\n",
              "        },\n",
              "      };\n",
              "\n",
              "      let percentDone = fileData.byteLength === 0 ?\n",
              "          100 :\n",
              "          Math.round((position / fileData.byteLength) * 100);\n",
              "      percent.textContent = `${percentDone}% done`;\n",
              "\n",
              "    } while (position < fileData.byteLength);\n",
              "  }\n",
              "\n",
              "  // All done.\n",
              "  yield {\n",
              "    response: {\n",
              "      action: 'complete',\n",
              "    }\n",
              "  };\n",
              "}\n",
              "\n",
              "scope.google = scope.google || {};\n",
              "scope.google.colab = scope.google.colab || {};\n",
              "scope.google.colab._files = {\n",
              "  _uploadFiles,\n",
              "  _uploadFilesContinue,\n",
              "};\n",
              "})(self);\n",
              "</script> "
            ]
          },
          "metadata": {}
        },
        {
          "output_type": "error",
          "ename": "KeyboardInterrupt",
          "evalue": "ignored",
          "traceback": [
            "\u001b[0;31m---------------------------------------------------------------------------\u001b[0m",
            "\u001b[0;31mKeyboardInterrupt\u001b[0m                         Traceback (most recent call last)",
            "\u001b[0;32m<ipython-input-53-72edf3658aa1>\u001b[0m in \u001b[0;36m<cell line: 3>\u001b[0;34m()\u001b[0m\n\u001b[1;32m      1\u001b[0m \u001b[0;32mfrom\u001b[0m \u001b[0mgoogle\u001b[0m\u001b[0;34m.\u001b[0m\u001b[0mcolab\u001b[0m \u001b[0;32mimport\u001b[0m \u001b[0mfiles\u001b[0m\u001b[0;34m\u001b[0m\u001b[0;34m\u001b[0m\u001b[0m\n\u001b[1;32m      2\u001b[0m \u001b[0;34m\u001b[0m\u001b[0m\n\u001b[0;32m----> 3\u001b[0;31m \u001b[0muploaded\u001b[0m \u001b[0;34m=\u001b[0m \u001b[0mfiles\u001b[0m\u001b[0;34m.\u001b[0m\u001b[0mupload\u001b[0m\u001b[0;34m(\u001b[0m\u001b[0;34m)\u001b[0m\u001b[0;34m\u001b[0m\u001b[0;34m\u001b[0m\u001b[0m\n\u001b[0m",
            "\u001b[0;32m/usr/local/lib/python3.10/dist-packages/google/colab/files.py\u001b[0m in \u001b[0;36mupload\u001b[0;34m()\u001b[0m\n\u001b[1;32m     67\u001b[0m   \"\"\"\n\u001b[1;32m     68\u001b[0m \u001b[0;34m\u001b[0m\u001b[0m\n\u001b[0;32m---> 69\u001b[0;31m   \u001b[0muploaded_files\u001b[0m \u001b[0;34m=\u001b[0m \u001b[0m_upload_files\u001b[0m\u001b[0;34m(\u001b[0m\u001b[0mmultiple\u001b[0m\u001b[0;34m=\u001b[0m\u001b[0;32mTrue\u001b[0m\u001b[0;34m)\u001b[0m\u001b[0;34m\u001b[0m\u001b[0;34m\u001b[0m\u001b[0m\n\u001b[0m\u001b[1;32m     70\u001b[0m   \u001b[0;31m# Mapping from original filename to filename as saved locally.\u001b[0m\u001b[0;34m\u001b[0m\u001b[0;34m\u001b[0m\u001b[0m\n\u001b[1;32m     71\u001b[0m   \u001b[0mlocal_filenames\u001b[0m \u001b[0;34m=\u001b[0m \u001b[0mdict\u001b[0m\u001b[0;34m(\u001b[0m\u001b[0;34m)\u001b[0m\u001b[0;34m\u001b[0m\u001b[0;34m\u001b[0m\u001b[0m\n",
            "\u001b[0;32m/usr/local/lib/python3.10/dist-packages/google/colab/files.py\u001b[0m in \u001b[0;36m_upload_files\u001b[0;34m(multiple)\u001b[0m\n\u001b[1;32m    154\u001b[0m \u001b[0;34m\u001b[0m\u001b[0m\n\u001b[1;32m    155\u001b[0m   \u001b[0;31m# First result is always an indication that the file picker has completed.\u001b[0m\u001b[0;34m\u001b[0m\u001b[0;34m\u001b[0m\u001b[0m\n\u001b[0;32m--> 156\u001b[0;31m   result = _output.eval_js(\n\u001b[0m\u001b[1;32m    157\u001b[0m       'google.colab._files._uploadFiles(\"{input_id}\", \"{output_id}\")'.format(\n\u001b[1;32m    158\u001b[0m           \u001b[0minput_id\u001b[0m\u001b[0;34m=\u001b[0m\u001b[0minput_id\u001b[0m\u001b[0;34m,\u001b[0m \u001b[0moutput_id\u001b[0m\u001b[0;34m=\u001b[0m\u001b[0moutput_id\u001b[0m\u001b[0;34m\u001b[0m\u001b[0;34m\u001b[0m\u001b[0m\n",
            "\u001b[0;32m/usr/local/lib/python3.10/dist-packages/google/colab/output/_js.py\u001b[0m in \u001b[0;36meval_js\u001b[0;34m(script, ignore_result, timeout_sec)\u001b[0m\n\u001b[1;32m     38\u001b[0m   \u001b[0;32mif\u001b[0m \u001b[0mignore_result\u001b[0m\u001b[0;34m:\u001b[0m\u001b[0;34m\u001b[0m\u001b[0;34m\u001b[0m\u001b[0m\n\u001b[1;32m     39\u001b[0m     \u001b[0;32mreturn\u001b[0m\u001b[0;34m\u001b[0m\u001b[0;34m\u001b[0m\u001b[0m\n\u001b[0;32m---> 40\u001b[0;31m   \u001b[0;32mreturn\u001b[0m \u001b[0m_message\u001b[0m\u001b[0;34m.\u001b[0m\u001b[0mread_reply_from_input\u001b[0m\u001b[0;34m(\u001b[0m\u001b[0mrequest_id\u001b[0m\u001b[0;34m,\u001b[0m \u001b[0mtimeout_sec\u001b[0m\u001b[0;34m)\u001b[0m\u001b[0;34m\u001b[0m\u001b[0;34m\u001b[0m\u001b[0m\n\u001b[0m\u001b[1;32m     41\u001b[0m \u001b[0;34m\u001b[0m\u001b[0m\n\u001b[1;32m     42\u001b[0m \u001b[0;34m\u001b[0m\u001b[0m\n",
            "\u001b[0;32m/usr/local/lib/python3.10/dist-packages/google/colab/_message.py\u001b[0m in \u001b[0;36mread_reply_from_input\u001b[0;34m(message_id, timeout_sec)\u001b[0m\n\u001b[1;32m     94\u001b[0m     \u001b[0mreply\u001b[0m \u001b[0;34m=\u001b[0m \u001b[0m_read_next_input_message\u001b[0m\u001b[0;34m(\u001b[0m\u001b[0;34m)\u001b[0m\u001b[0;34m\u001b[0m\u001b[0;34m\u001b[0m\u001b[0m\n\u001b[1;32m     95\u001b[0m     \u001b[0;32mif\u001b[0m \u001b[0mreply\u001b[0m \u001b[0;34m==\u001b[0m \u001b[0m_NOT_READY\u001b[0m \u001b[0;32mor\u001b[0m \u001b[0;32mnot\u001b[0m \u001b[0misinstance\u001b[0m\u001b[0;34m(\u001b[0m\u001b[0mreply\u001b[0m\u001b[0;34m,\u001b[0m \u001b[0mdict\u001b[0m\u001b[0;34m)\u001b[0m\u001b[0;34m:\u001b[0m\u001b[0;34m\u001b[0m\u001b[0;34m\u001b[0m\u001b[0m\n\u001b[0;32m---> 96\u001b[0;31m       \u001b[0mtime\u001b[0m\u001b[0;34m.\u001b[0m\u001b[0msleep\u001b[0m\u001b[0;34m(\u001b[0m\u001b[0;36m0.025\u001b[0m\u001b[0;34m)\u001b[0m\u001b[0;34m\u001b[0m\u001b[0;34m\u001b[0m\u001b[0m\n\u001b[0m\u001b[1;32m     97\u001b[0m       \u001b[0;32mcontinue\u001b[0m\u001b[0;34m\u001b[0m\u001b[0;34m\u001b[0m\u001b[0m\n\u001b[1;32m     98\u001b[0m     if (\n",
            "\u001b[0;31mKeyboardInterrupt\u001b[0m: "
          ]
        }
      ]
    },
    {
      "cell_type": "code",
      "source": [
        "#%%R\n",
        "\n",
        "train_personas <- read_csv(\"/content/train_personas.csv\")\n",
        "test_hogares<- read_csv(\"/content/test_hogares.csv\")\n",
        "test_personas<- read_csv(\"/content/test_personas.csv\")\n",
        "train_hogares<- read_csv(\"/content/train_hogares.csv\")"
      ],
      "metadata": {
        "colab": {
          "base_uri": "https://localhost:8080/"
        },
        "id": "FmMA0dT7wBkL",
        "outputId": "2aaffb26-ad20-44ef-aa29-dcc1fc337723"
      },
      "execution_count": 2,
      "outputs": [
        {
          "output_type": "stream",
          "name": "stderr",
          "text": [
            "Warning message:\n",
            "“\u001b[1m\u001b[22mOne or more parsing issues, call `problems()` on your data frame for details,\n",
            "e.g.:\n",
            "  dat <- vroom(...)\n",
            "  problems(dat)”\n",
            "\u001b[1mRows: \u001b[22m\u001b[34m543109\u001b[39m \u001b[1mColumns: \u001b[22m\u001b[34m135\u001b[39m\n",
            "\u001b[36m──\u001b[39m \u001b[1mColumn specification\u001b[22m \u001b[36m────────────────────────────────────────────────────────\u001b[39m\n",
            "\u001b[1mDelimiter:\u001b[22m \",\"\n",
            "\u001b[31mchr\u001b[39m   (3): id, Dominio, Depto\n",
            "\u001b[32mdbl\u001b[39m (128): Orden, Clase, Estrato1, P6020, P6040, P6050, P6090, P6100, P6210,...\n",
            "\u001b[33mlgl\u001b[39m   (4): Cclasnr5, Cclasnr6, Imdies, Iof1es\n",
            "\n",
            "\u001b[36mℹ\u001b[39m Use `spec()` to retrieve the full column specification for this data.\n",
            "\u001b[36mℹ\u001b[39m Specify the column types or set `show_col_types = FALSE` to quiet this message.\n",
            "\u001b[1mRows: \u001b[22m\u001b[34m66168\u001b[39m \u001b[1mColumns: \u001b[22m\u001b[34m16\u001b[39m\n",
            "\u001b[36m──\u001b[39m \u001b[1mColumn specification\u001b[22m \u001b[36m────────────────────────────────────────────────────────\u001b[39m\n",
            "\u001b[1mDelimiter:\u001b[22m \",\"\n",
            "\u001b[31mchr\u001b[39m  (3): id, Dominio, Depto\n",
            "\u001b[32mdbl\u001b[39m (13): Clase, P5000, P5010, P5090, P5100, P5130, P5140, Nper, Npersug, Li...\n",
            "\n",
            "\u001b[36mℹ\u001b[39m Use `spec()` to retrieve the full column specification for this data.\n",
            "\u001b[36mℹ\u001b[39m Specify the column types or set `show_col_types = FALSE` to quiet this message.\n",
            "\u001b[1mRows: \u001b[22m\u001b[34m219644\u001b[39m \u001b[1mColumns: \u001b[22m\u001b[34m63\u001b[39m\n",
            "\u001b[36m──\u001b[39m \u001b[1mColumn specification\u001b[22m \u001b[36m────────────────────────────────────────────────────────\u001b[39m\n",
            "\u001b[1mDelimiter:\u001b[22m \",\"\n",
            "\u001b[31mchr\u001b[39m  (3): id, Dominio, Depto\n",
            "\u001b[32mdbl\u001b[39m (60): Orden, Clase, P6020, P6040, P6050, P6090, P6100, P6210, P6210s1, P...\n",
            "\n",
            "\u001b[36mℹ\u001b[39m Use `spec()` to retrieve the full column specification for this data.\n",
            "\u001b[36mℹ\u001b[39m Specify the column types or set `show_col_types = FALSE` to quiet this message.\n",
            "\u001b[1mRows: \u001b[22m\u001b[34m164960\u001b[39m \u001b[1mColumns: \u001b[22m\u001b[34m23\u001b[39m\n",
            "\u001b[36m──\u001b[39m \u001b[1mColumn specification\u001b[22m \u001b[36m────────────────────────────────────────────────────────\u001b[39m\n",
            "\u001b[1mDelimiter:\u001b[22m \",\"\n",
            "\u001b[31mchr\u001b[39m  (3): id, Dominio, Depto\n",
            "\u001b[32mdbl\u001b[39m (20): Clase, P5000, P5010, P5090, P5100, P5130, P5140, Nper, Npersug, In...\n",
            "\n",
            "\u001b[36mℹ\u001b[39m Use `spec()` to retrieve the full column specification for this data.\n",
            "\u001b[36mℹ\u001b[39m Specify the column types or set `show_col_types = FALSE` to quiet this message.\n"
          ]
        }
      ]
    },
    {
      "cell_type": "code",
      "source": [
        "#%%R\n",
        "#-------collapsing data from individual-level to household-level data-----------\n",
        "#TRAIN PERSONAS: Check the number of unique values in 'id' column\n",
        "n_distinct(train_personas$id)\n",
        "n_distinct(train_hogares$id)\n"
      ],
      "metadata": {
        "colab": {
          "base_uri": "https://localhost:8080/",
          "height": 52
        },
        "id": "LlwBqsAHx6em",
        "outputId": "2973f0d9-9dc8-4bed-f9f9-328f0a271b3a"
      },
      "execution_count": 3,
      "outputs": [
        {
          "output_type": "display_data",
          "data": {
            "text/html": [
              "164960"
            ],
            "text/markdown": "164960",
            "text/latex": "164960",
            "text/plain": [
              "[1] 164960"
            ]
          },
          "metadata": {}
        },
        {
          "output_type": "display_data",
          "data": {
            "text/html": [
              "164960"
            ],
            "text/markdown": "164960",
            "text/latex": "164960",
            "text/plain": [
              "[1] 164960"
            ]
          },
          "metadata": {}
        }
      ]
    },
    {
      "cell_type": "code",
      "source": [
        "#%%R\n",
        "\n",
        "#TRAIN PERSONAS: Using the aggregate() function calculate aggregated household income using train_personas databases\n",
        "train_household_sum <- aggregate(cbind(Ingtot) ~ id, data = train_personas, FUN = sum)\n",
        "train_household_max <- aggregate(cbind(Orden) ~ id, data = train_personas, FUN = max)\n"
      ],
      "metadata": {
        "id": "KgGZTMZoyDK2"
      },
      "execution_count": 4,
      "outputs": []
    },
    {
      "cell_type": "code",
      "source": [
        "#%%R\n",
        "family_head_train <- train_personas %>%\n",
        "  filter(Orden == 1) %>%\n",
        "  select(id, P6020, P6040, P6210)\n"
      ],
      "metadata": {
        "id": "jPXRXpsLytlD"
      },
      "execution_count": 5,
      "outputs": []
    },
    {
      "cell_type": "code",
      "source": [
        "#%%R\n",
        "#Bind together\n",
        "train_household <- train_household_sum %>%\n",
        "  left_join(train_household_max, by = c(\"id\"))\n",
        "\n",
        "train_household <- train_household %>%\n",
        "  left_join(family_head_train, by = c(\"id\"))\n",
        "\n"
      ],
      "metadata": {
        "id": "SJZInzDqzNng"
      },
      "execution_count": 6,
      "outputs": []
    },
    {
      "cell_type": "code",
      "source": [
        "#%%R\n",
        "#Divide Ingtotal household into ingtotal per person to compare to Lp and Li\n",
        "train_household <- train_household %>% mutate(Ingtot = (Ingtot / Orden))\n",
        "\n",
        "\n",
        "\n",
        "#TEST PERSONAS: Check the number of unique values in 'id' column\n",
        "n_distinct(test_personas$id)\n",
        "n_distinct(test_hogares$id)\n"
      ],
      "metadata": {
        "colab": {
          "base_uri": "https://localhost:8080/",
          "height": 52
        },
        "id": "6QY1m5YwzRRn",
        "outputId": "5eb51d9c-584b-4c48-e412-aed46278ddfc"
      },
      "execution_count": 7,
      "outputs": [
        {
          "output_type": "display_data",
          "data": {
            "text/html": [
              "66168"
            ],
            "text/markdown": "66168",
            "text/latex": "66168",
            "text/plain": [
              "[1] 66168"
            ]
          },
          "metadata": {}
        },
        {
          "output_type": "display_data",
          "data": {
            "text/html": [
              "66168"
            ],
            "text/markdown": "66168",
            "text/latex": "66168",
            "text/plain": [
              "[1] 66168"
            ]
          },
          "metadata": {}
        }
      ]
    },
    {
      "cell_type": "code",
      "source": [
        "#%%R\n",
        "#TEST PERSONAS: Using the aggregate() function calculate aggregated household income using train_personas databases\n",
        "test_household_max <- aggregate(cbind(Orden) ~ id, data = test_personas, FUN = max)\n",
        "\n",
        "family_head_test <- test_personas %>%\n",
        "  filter(Orden == 1) %>%\n",
        "  select(id, P6020, P6040, P6210)\n"
      ],
      "metadata": {
        "id": "D6MYJFpHzYAG"
      },
      "execution_count": 8,
      "outputs": []
    },
    {
      "cell_type": "code",
      "source": [
        "#%%R\n",
        "#Bind together\n",
        "test_household <- family_head_test %>%\n",
        "  left_join(test_household_max, by = c(\"id\"))"
      ],
      "metadata": {
        "id": "6wc8AtngzbAP"
      },
      "execution_count": 9,
      "outputs": []
    },
    {
      "cell_type": "code",
      "source": [
        "\n",
        "#%%R\n",
        "#----------------------merging data---------------------------------------------\n",
        "#train data\n",
        "train <- train_hogares %>%\n",
        "  left_join(train_household, by = c(\"id\"))\n",
        "#test data\n",
        "test <- test_hogares %>%\n",
        "  left_join(test_household, by = c(\"id\"))\n"
      ],
      "metadata": {
        "id": "brEYSLTSzfIh"
      },
      "execution_count": 10,
      "outputs": []
    },
    {
      "cell_type": "code",
      "source": [
        "#%%R\n",
        "names(train)"
      ],
      "metadata": {
        "colab": {
          "base_uri": "https://localhost:8080/",
          "height": 52
        },
        "id": "jrNANfFaEDnW",
        "outputId": "7629efe7-dc00-491f-e9ff-d1b3996c69be"
      },
      "execution_count": 11,
      "outputs": [
        {
          "output_type": "display_data",
          "data": {
            "text/html": [
              "<style>\n",
              ".list-inline {list-style: none; margin:0; padding: 0}\n",
              ".list-inline>li {display: inline-block}\n",
              ".list-inline>li:not(:last-child)::after {content: \"\\00b7\"; padding: 0 .5ex}\n",
              "</style>\n",
              "<ol class=list-inline><li>'id'</li><li>'Clase'</li><li>'Dominio'</li><li>'P5000'</li><li>'P5010'</li><li>'P5090'</li><li>'P5100'</li><li>'P5130'</li><li>'P5140'</li><li>'Nper'</li><li>'Npersug'</li><li>'Ingtotug'</li><li>'Ingtotugarr'</li><li>'Ingpcug'</li><li>'Li'</li><li>'Lp'</li><li>'Pobre'</li><li>'Indigente'</li><li>'Npobres'</li><li>'Nindigentes'</li><li>'Fex_c'</li><li>'Depto'</li><li>'Fex_dpto'</li><li>'Ingtot'</li><li>'Orden'</li><li>'P6020'</li><li>'P6040'</li><li>'P6210'</li></ol>\n"
            ],
            "text/markdown": "1. 'id'\n2. 'Clase'\n3. 'Dominio'\n4. 'P5000'\n5. 'P5010'\n6. 'P5090'\n7. 'P5100'\n8. 'P5130'\n9. 'P5140'\n10. 'Nper'\n11. 'Npersug'\n12. 'Ingtotug'\n13. 'Ingtotugarr'\n14. 'Ingpcug'\n15. 'Li'\n16. 'Lp'\n17. 'Pobre'\n18. 'Indigente'\n19. 'Npobres'\n20. 'Nindigentes'\n21. 'Fex_c'\n22. 'Depto'\n23. 'Fex_dpto'\n24. 'Ingtot'\n25. 'Orden'\n26. 'P6020'\n27. 'P6040'\n28. 'P6210'\n\n\n",
            "text/latex": "\\begin{enumerate*}\n\\item 'id'\n\\item 'Clase'\n\\item 'Dominio'\n\\item 'P5000'\n\\item 'P5010'\n\\item 'P5090'\n\\item 'P5100'\n\\item 'P5130'\n\\item 'P5140'\n\\item 'Nper'\n\\item 'Npersug'\n\\item 'Ingtotug'\n\\item 'Ingtotugarr'\n\\item 'Ingpcug'\n\\item 'Li'\n\\item 'Lp'\n\\item 'Pobre'\n\\item 'Indigente'\n\\item 'Npobres'\n\\item 'Nindigentes'\n\\item 'Fex\\_c'\n\\item 'Depto'\n\\item 'Fex\\_dpto'\n\\item 'Ingtot'\n\\item 'Orden'\n\\item 'P6020'\n\\item 'P6040'\n\\item 'P6210'\n\\end{enumerate*}\n",
            "text/plain": [
              " [1] \"id\"          \"Clase\"       \"Dominio\"     \"P5000\"       \"P5010\"      \n",
              " [6] \"P5090\"       \"P5100\"       \"P5130\"       \"P5140\"       \"Nper\"       \n",
              "[11] \"Npersug\"     \"Ingtotug\"    \"Ingtotugarr\" \"Ingpcug\"     \"Li\"         \n",
              "[16] \"Lp\"          \"Pobre\"       \"Indigente\"   \"Npobres\"     \"Nindigentes\"\n",
              "[21] \"Fex_c\"       \"Depto\"       \"Fex_dpto\"    \"Ingtot\"      \"Orden\"      \n",
              "[26] \"P6020\"       \"P6040\"       \"P6210\"      "
            ]
          },
          "metadata": {}
        }
      ]
    },
    {
      "cell_type": "code",
      "source": [
        "#%%R\n",
        "#Keep only relevant variables---------------------------------------------------\n",
        "train_n <- train[, c(\"id\", \"Clase\", \"Li\", \"Lp\", \"Pobre\", \"Indigente\", \"P6020\", \"P6040\", \"Ingtot\", \"Nper\", \"P6210\", \"Depto\",\"P5130\", \"P5140\", \"P5090\", \"P5000\", \"P5010\")]\n"
      ],
      "metadata": {
        "id": "wi25fvq50KTf"
      },
      "execution_count": 12,
      "outputs": []
    },
    {
      "cell_type": "code",
      "source": [
        "#%%R\n",
        "train_n <- train_n %>%\n",
        "  mutate(P5130 = ifelse(is.na(P5130), P5140, P5130)) %>%\n",
        "  select(-P5140)"
      ],
      "metadata": {
        "id": "qR8_v-Xo0VIy"
      },
      "execution_count": 13,
      "outputs": []
    },
    {
      "cell_type": "code",
      "source": [
        "#%%R\n",
        "test_n <- test[, c(\"id\", \"Clase\", \"Li\", \"Lp\", \"P6020\", \"P6040\",\"Nper\", \"P6210\", \"Depto\",\"P5130\", \"P5140\", \"P5090\", \"P5000\", \"P5010\")] #Pobre, Indigente, and Ingtot don't exist.\n"
      ],
      "metadata": {
        "id": "vl9SVXrz0Nba"
      },
      "execution_count": 14,
      "outputs": []
    },
    {
      "cell_type": "code",
      "source": [
        "#%%R\n",
        "test_n <- test_n %>%\n",
        "  mutate(P5130 = ifelse(is.na(P5130), P5140, P5130)) %>%\n",
        "  select(-P5140)"
      ],
      "metadata": {
        "id": "7jAMadoFFE3y"
      },
      "execution_count": 15,
      "outputs": []
    },
    {
      "cell_type": "code",
      "source": [
        "#%%R\n",
        "#Create the missing variables in the test database with NA values in all rows of the data frame\n",
        "test_n$Pobre <- NA\n",
        "test_n$Indigente <- NA\n",
        "test_n$Ingtot <- NA"
      ],
      "metadata": {
        "id": "a2Mw_jy10O_w"
      },
      "execution_count": 16,
      "outputs": []
    },
    {
      "cell_type": "code",
      "source": [
        "#%%R\n",
        "glimpse(test_n) #16 variables\n",
        "glimpse(train_n) #16 variables"
      ],
      "metadata": {
        "colab": {
          "base_uri": "https://localhost:8080/"
        },
        "id": "ARL8uUQEFgrm",
        "outputId": "90902fd6-16e4-4c23-e363-5a939eebb252"
      },
      "execution_count": 17,
      "outputs": [
        {
          "output_type": "stream",
          "name": "stdout",
          "text": [
            "Rows: 66,168\n",
            "Columns: 16\n",
            "$ id        \u001b[3m\u001b[90m<chr>\u001b[39m\u001b[23m \"2a7ddc2779480d7f19834953\", \"a0c2e751e582fd49d564f308\", \"572…\n",
            "$ Clase     \u001b[3m\u001b[90m<dbl>\u001b[39m\u001b[23m 1, 1, 2, 1, 1, 1, 1, 1, 1, 1, 1, 1, 1, 1, 1, 2, 1, 1, 1, 1, …\n",
            "$ Li        \u001b[3m\u001b[90m<dbl>\u001b[39m\u001b[23m 121449.45, 121449.45, 100763.34, 122251.78, 123664.36, 11958…\n",
            "$ Lp        \u001b[3m\u001b[90m<dbl>\u001b[39m\u001b[23m 275594.0, 275594.0, 170886.4, 294093.7, 293293.4, 283609.8, …\n",
            "$ P6020     \u001b[3m\u001b[90m<dbl>\u001b[39m\u001b[23m 1, 1, 1, 2, 1, 2, 1, 1, 2, 1, 1, 2, 2, 1, 1, 1, 1, 2, 1, 2, …\n",
            "$ P6040     \u001b[3m\u001b[90m<dbl>\u001b[39m\u001b[23m 58, 41, 50, 60, 37, 67, 50, 50, 33, 33, 62, 58, 69, 42, 36, …\n",
            "$ Nper      \u001b[3m\u001b[90m<dbl>\u001b[39m\u001b[23m 5, 6, 2, 5, 2, 3, 3, 3, 3, 4, 4, 6, 1, 7, 3, 4, 3, 2, 2, 2, …\n",
            "$ P6210     \u001b[3m\u001b[90m<dbl>\u001b[39m\u001b[23m 6, 5, 1, 5, 6, 4, 5, 5, 6, 5, 3, 3, 5, 3, 5, 3, 6, 6, 6, 3, …\n",
            "$ Depto     \u001b[3m\u001b[90m<chr>\u001b[39m\u001b[23m \"47\", \"47\", \"17\", \"05\", \"05\", \"17\", \"20\", \"68\", \"68\", \"50\", …\n",
            "$ P5130     \u001b[3m\u001b[90m<dbl>\u001b[39m\u001b[23m 400000, 500000, 250000, 600000, 2000000, 550000, 350000, 650…\n",
            "$ P5090     \u001b[3m\u001b[90m<dbl>\u001b[39m\u001b[23m 1, 4, 1, 1, 2, 1, 1, 1, 3, 3, 1, 3, 1, 3, 3, 4, 3, 1, 3, 4, …\n",
            "$ P5000     \u001b[3m\u001b[90m<dbl>\u001b[39m\u001b[23m 4, 4, 3, 4, 5, 5, 4, 4, 4, 3, 3, 4, 4, 4, 3, 3, 4, 3, 3, 6, …\n",
            "$ P5010     \u001b[3m\u001b[90m<dbl>\u001b[39m\u001b[23m 3, 3, 1, 3, 2, 3, 2, 2, 3, 2, 2, 3, 1, 3, 1, 2, 2, 1, 1, 2, …\n",
            "$ Pobre     \u001b[3m\u001b[90m<lgl>\u001b[39m\u001b[23m NA, NA, NA, NA, NA, NA, NA, NA, NA, NA, NA, NA, NA, NA, NA, …\n",
            "$ Indigente \u001b[3m\u001b[90m<lgl>\u001b[39m\u001b[23m NA, NA, NA, NA, NA, NA, NA, NA, NA, NA, NA, NA, NA, NA, NA, …\n",
            "$ Ingtot    \u001b[3m\u001b[90m<lgl>\u001b[39m\u001b[23m NA, NA, NA, NA, NA, NA, NA, NA, NA, NA, NA, NA, NA, NA, NA, …\n",
            "Rows: 164,960\n",
            "Columns: 16\n",
            "$ id        \u001b[3m\u001b[90m<chr>\u001b[39m\u001b[23m \"8d0193e328305a042001a35f\", \"cf7491d7f2cc9c216bd009e7\", \"d90…\n",
            "$ Clase     \u001b[3m\u001b[90m<dbl>\u001b[39m\u001b[23m 1, 1, 1, 1, 1, 1, 1, 1, 1, 1, 1, 1, 1, 1, 1, 1, 1, 1, 1, 1, …\n",
            "$ Li        \u001b[3m\u001b[90m<dbl>\u001b[39m\u001b[23m 122809.5, 122809.5, 122809.5, 122809.5, 122809.5, 122809.5, …\n",
            "$ Lp        \u001b[3m\u001b[90m<dbl>\u001b[39m\u001b[23m 289878.2, 289878.2, 289878.2, 289878.2, 289878.2, 289878.2, …\n",
            "$ Pobre     \u001b[3m\u001b[90m<dbl>\u001b[39m\u001b[23m 0, 1, 0, 0, 1, 0, 0, 0, 0, 0, 0, 0, 0, 0, 0, 0, 0, 0, 0, 0, …\n",
            "$ Indigente \u001b[3m\u001b[90m<dbl>\u001b[39m\u001b[23m 0, 0, 0, 0, 0, 0, 0, 0, 0, 0, 0, 0, 0, 0, 0, 0, 0, 0, 0, 0, …\n",
            "$ P6020     \u001b[3m\u001b[90m<dbl>\u001b[39m\u001b[23m 1, 1, 2, 1, 1, 1, 2, 1, 1, 1, 1, 2, 1, 1, 1, 2, 1, 2, 1, 2, …\n",
            "$ P6040     \u001b[3m\u001b[90m<dbl>\u001b[39m\u001b[23m 41, 64, 38, 43, 67, 48, 48, 51, 48, 26, 21, 22, 61, 58, 50, …\n",
            "$ Ingtot    \u001b[3m\u001b[90m<dbl>\u001b[39m\u001b[23m 501666.1, 161250.0, 1766666.7, 2000000.0, 252000.0, 790704.4…\n",
            "$ Nper      \u001b[3m\u001b[90m<dbl>\u001b[39m\u001b[23m 5, 4, 3, 1, 5, 3, 1, 4, 4, 2, 1, 1, 3, 2, 3, 1, 3, 5, 2, 3, …\n",
            "$ P6210     \u001b[3m\u001b[90m<dbl>\u001b[39m\u001b[23m 5, 4, 6, 3, 3, 5, 6, 6, 6, 6, 6, 6, 4, 6, 5, 3, 4, 5, 4, 4, …\n",
            "$ Depto     \u001b[3m\u001b[90m<chr>\u001b[39m\u001b[23m \"05\", \"05\", \"05\", \"05\", \"05\", \"05\", \"05\", \"05\", \"05\", \"05\", …\n",
            "$ P5130     \u001b[3m\u001b[90m<dbl>\u001b[39m\u001b[23m 400000, 250000, 700000, 450000, 500000, 400000, 700000, 7500…\n",
            "$ P5090     \u001b[3m\u001b[90m<dbl>\u001b[39m\u001b[23m 1, 3, 1, 1, 3, 1, 1, 1, 1, 3, 3, 3, 1, 1, 3, 4, 3, 1, 4, 1, …\n",
            "$ P5000     \u001b[3m\u001b[90m<dbl>\u001b[39m\u001b[23m 4, 5, 4, 3, 4, 3, 4, 4, 4, 4, 1, 1, 4, 3, 3, 3, 3, 4, 4, 4, …\n",
            "$ P5010     \u001b[3m\u001b[90m<dbl>\u001b[39m\u001b[23m 2, 4, 2, 1, 3, 2, 1, 3, 3, 1, 1, 1, 3, 1, 2, 1, 2, 3, 1, 3, …\n"
          ]
        }
      ]
    },
    {
      "cell_type": "code",
      "source": [
        "#%%R\n",
        "#Replace missings with mode in Ingtot (17.57% of observations are missings)\n",
        "colSums(is.na(train_n))/nrow(train_n)*100\n",
        "\n",
        "Mode <- function(x) {\n",
        "  ux <- unique(x)\n",
        "  ux[which.max(tabulate(match(x, ux)))]\n",
        "}\n",
        "\n",
        "train_n$Ingtot[is.na(train_n$Ingtot)] <- Mode(train_n$Ingtot)\n"
      ],
      "metadata": {
        "id": "F0a8gZupFoi_",
        "colab": {
          "base_uri": "https://localhost:8080/",
          "height": 52
        },
        "outputId": "b97030cd-03c0-4440-da4a-07030cfb8957"
      },
      "execution_count": 18,
      "outputs": [
        {
          "output_type": "display_data",
          "data": {
            "text/html": [
              "<style>\n",
              ".dl-inline {width: auto; margin:0; padding: 0}\n",
              ".dl-inline>dt, .dl-inline>dd {float: none; width: auto; display: inline-block}\n",
              ".dl-inline>dt::after {content: \":\\0020\"; padding-right: .5ex}\n",
              ".dl-inline>dt:not(:first-of-type) {padding-left: .5ex}\n",
              "</style><dl class=dl-inline><dt>id</dt><dd>0</dd><dt>Clase</dt><dd>0</dd><dt>Li</dt><dd>0</dd><dt>Lp</dt><dd>0</dd><dt>Pobre</dt><dd>0</dd><dt>Indigente</dt><dd>0</dd><dt>P6020</dt><dd>0.000606207565470417</dd><dt>P6040</dt><dd>0.000606207565470417</dd><dt>Ingtot</dt><dd>0.000606207565470417</dd><dt>Nper</dt><dd>0</dd><dt>P6210</dt><dd>0.000606207565470417</dd><dt>Depto</dt><dd>0</dd><dt>P5130</dt><dd>0</dd><dt>P5090</dt><dd>0</dd><dt>P5000</dt><dd>0</dd><dt>P5010</dt><dd>0</dd></dl>\n"
            ],
            "text/markdown": "id\n:   0Clase\n:   0Li\n:   0Lp\n:   0Pobre\n:   0Indigente\n:   0P6020\n:   0.000606207565470417P6040\n:   0.000606207565470417Ingtot\n:   0.000606207565470417Nper\n:   0P6210\n:   0.000606207565470417Depto\n:   0P5130\n:   0P5090\n:   0P5000\n:   0P5010\n:   0\n\n",
            "text/latex": "\\begin{description*}\n\\item[id] 0\n\\item[Clase] 0\n\\item[Li] 0\n\\item[Lp] 0\n\\item[Pobre] 0\n\\item[Indigente] 0\n\\item[P6020] 0.000606207565470417\n\\item[P6040] 0.000606207565470417\n\\item[Ingtot] 0.000606207565470417\n\\item[Nper] 0\n\\item[P6210] 0.000606207565470417\n\\item[Depto] 0\n\\item[P5130] 0\n\\item[P5090] 0\n\\item[P5000] 0\n\\item[P5010] 0\n\\end{description*}\n",
            "text/plain": [
              "          id        Clase           Li           Lp        Pobre    Indigente \n",
              "0.0000000000 0.0000000000 0.0000000000 0.0000000000 0.0000000000 0.0000000000 \n",
              "       P6020        P6040       Ingtot         Nper        P6210        Depto \n",
              "0.0006062076 0.0006062076 0.0006062076 0.0000000000 0.0006062076 0.0000000000 \n",
              "       P5130        P5090        P5000        P5010 \n",
              "0.0000000000 0.0000000000 0.0000000000 0.0000000000 "
            ]
          },
          "metadata": {}
        }
      ]
    },
    {
      "cell_type": "code",
      "source": [
        "#%%R\n",
        "##Bind both databases together -------------------------------------------------\n",
        "#Generate new variable that identifies the sample\n",
        "test_n<-test_n %>% mutate(sample=\"test\")\n",
        "train_n<-train_n %>% mutate(sample=\"train\")\n",
        "\n",
        "#Bind together both databases\n",
        "total_table<-rbind(test_n,train_n)\n",
        "table(total_table$sample) #test 66168 | train 164960\n"
      ],
      "metadata": {
        "colab": {
          "base_uri": "https://localhost:8080/",
          "height": 69
        },
        "id": "nltFE3PKFqzw",
        "outputId": "201fab88-9f38-4429-b74b-677e5d91bc8a"
      },
      "execution_count": 19,
      "outputs": [
        {
          "output_type": "display_data",
          "data": {
            "text/plain": [
              "\n",
              "  test  train \n",
              " 66168 164960 "
            ]
          },
          "metadata": {}
        }
      ]
    },
    {
      "cell_type": "code",
      "source": [
        "#%%R\n",
        "total_table$P6020 <- ifelse(total_table$P6020 == 2, 0, total_table$P6020)\n",
        "glimpse(total_table)\n"
      ],
      "metadata": {
        "colab": {
          "base_uri": "https://localhost:8080/"
        },
        "id": "iPmrdUm_F4KS",
        "outputId": "cff6b233-2bee-49e5-df9f-6ff8f013f83c"
      },
      "execution_count": 20,
      "outputs": [
        {
          "output_type": "stream",
          "name": "stdout",
          "text": [
            "Rows: 231,128\n",
            "Columns: 17\n",
            "$ id        \u001b[3m\u001b[90m<chr>\u001b[39m\u001b[23m \"2a7ddc2779480d7f19834953\", \"a0c2e751e582fd49d564f308\", \"572…\n",
            "$ Clase     \u001b[3m\u001b[90m<dbl>\u001b[39m\u001b[23m 1, 1, 2, 1, 1, 1, 1, 1, 1, 1, 1, 1, 1, 1, 1, 2, 1, 1, 1, 1, …\n",
            "$ Li        \u001b[3m\u001b[90m<dbl>\u001b[39m\u001b[23m 121449.45, 121449.45, 100763.34, 122251.78, 123664.36, 11958…\n",
            "$ Lp        \u001b[3m\u001b[90m<dbl>\u001b[39m\u001b[23m 275594.0, 275594.0, 170886.4, 294093.7, 293293.4, 283609.8, …\n",
            "$ P6020     \u001b[3m\u001b[90m<dbl>\u001b[39m\u001b[23m 1, 1, 1, 0, 1, 0, 1, 1, 0, 1, 1, 0, 0, 1, 1, 1, 1, 0, 1, 0, …\n",
            "$ P6040     \u001b[3m\u001b[90m<dbl>\u001b[39m\u001b[23m 58, 41, 50, 60, 37, 67, 50, 50, 33, 33, 62, 58, 69, 42, 36, …\n",
            "$ Nper      \u001b[3m\u001b[90m<dbl>\u001b[39m\u001b[23m 5, 6, 2, 5, 2, 3, 3, 3, 3, 4, 4, 6, 1, 7, 3, 4, 3, 2, 2, 2, …\n",
            "$ P6210     \u001b[3m\u001b[90m<dbl>\u001b[39m\u001b[23m 6, 5, 1, 5, 6, 4, 5, 5, 6, 5, 3, 3, 5, 3, 5, 3, 6, 6, 6, 3, …\n",
            "$ Depto     \u001b[3m\u001b[90m<chr>\u001b[39m\u001b[23m \"47\", \"47\", \"17\", \"05\", \"05\", \"17\", \"20\", \"68\", \"68\", \"50\", …\n",
            "$ P5130     \u001b[3m\u001b[90m<dbl>\u001b[39m\u001b[23m 400000, 500000, 250000, 600000, 2000000, 550000, 350000, 650…\n",
            "$ P5090     \u001b[3m\u001b[90m<dbl>\u001b[39m\u001b[23m 1, 4, 1, 1, 2, 1, 1, 1, 3, 3, 1, 3, 1, 3, 3, 4, 3, 1, 3, 4, …\n",
            "$ P5000     \u001b[3m\u001b[90m<dbl>\u001b[39m\u001b[23m 4, 4, 3, 4, 5, 5, 4, 4, 4, 3, 3, 4, 4, 4, 3, 3, 4, 3, 3, 6, …\n",
            "$ P5010     \u001b[3m\u001b[90m<dbl>\u001b[39m\u001b[23m 3, 3, 1, 3, 2, 3, 2, 2, 3, 2, 2, 3, 1, 3, 1, 2, 2, 1, 1, 2, …\n",
            "$ Pobre     \u001b[3m\u001b[90m<dbl>\u001b[39m\u001b[23m NA, NA, NA, NA, NA, NA, NA, NA, NA, NA, NA, NA, NA, NA, NA, …\n",
            "$ Indigente \u001b[3m\u001b[90m<dbl>\u001b[39m\u001b[23m NA, NA, NA, NA, NA, NA, NA, NA, NA, NA, NA, NA, NA, NA, NA, …\n",
            "$ Ingtot    \u001b[3m\u001b[90m<dbl>\u001b[39m\u001b[23m NA, NA, NA, NA, NA, NA, NA, NA, NA, NA, NA, NA, NA, NA, NA, …\n",
            "$ sample    \u001b[3m\u001b[90m<chr>\u001b[39m\u001b[23m \"test\", \"test\", \"test\", \"test\", \"test\", \"test\", \"test\", \"tes…\n"
          ]
        }
      ]
    },
    {
      "cell_type": "code",
      "source": [
        "#%%R\n",
        "\n",
        "#Change Clase from 2 to 0 resto\n",
        "total_table$Clase <- ifelse(total_table$Clase == 2, 0, total_table$Clase)\n",
        "glimpse(total_table)\n"
      ],
      "metadata": {
        "colab": {
          "base_uri": "https://localhost:8080/"
        },
        "id": "5pBv7iWOGsf4",
        "outputId": "cea7c17e-944c-4f34-f318-8c030d8d46ed"
      },
      "execution_count": 21,
      "outputs": [
        {
          "output_type": "stream",
          "name": "stdout",
          "text": [
            "Rows: 231,128\n",
            "Columns: 17\n",
            "$ id        \u001b[3m\u001b[90m<chr>\u001b[39m\u001b[23m \"2a7ddc2779480d7f19834953\", \"a0c2e751e582fd49d564f308\", \"572…\n",
            "$ Clase     \u001b[3m\u001b[90m<dbl>\u001b[39m\u001b[23m 1, 1, 0, 1, 1, 1, 1, 1, 1, 1, 1, 1, 1, 1, 1, 0, 1, 1, 1, 1, …\n",
            "$ Li        \u001b[3m\u001b[90m<dbl>\u001b[39m\u001b[23m 121449.45, 121449.45, 100763.34, 122251.78, 123664.36, 11958…\n",
            "$ Lp        \u001b[3m\u001b[90m<dbl>\u001b[39m\u001b[23m 275594.0, 275594.0, 170886.4, 294093.7, 293293.4, 283609.8, …\n",
            "$ P6020     \u001b[3m\u001b[90m<dbl>\u001b[39m\u001b[23m 1, 1, 1, 0, 1, 0, 1, 1, 0, 1, 1, 0, 0, 1, 1, 1, 1, 0, 1, 0, …\n",
            "$ P6040     \u001b[3m\u001b[90m<dbl>\u001b[39m\u001b[23m 58, 41, 50, 60, 37, 67, 50, 50, 33, 33, 62, 58, 69, 42, 36, …\n",
            "$ Nper      \u001b[3m\u001b[90m<dbl>\u001b[39m\u001b[23m 5, 6, 2, 5, 2, 3, 3, 3, 3, 4, 4, 6, 1, 7, 3, 4, 3, 2, 2, 2, …\n",
            "$ P6210     \u001b[3m\u001b[90m<dbl>\u001b[39m\u001b[23m 6, 5, 1, 5, 6, 4, 5, 5, 6, 5, 3, 3, 5, 3, 5, 3, 6, 6, 6, 3, …\n",
            "$ Depto     \u001b[3m\u001b[90m<chr>\u001b[39m\u001b[23m \"47\", \"47\", \"17\", \"05\", \"05\", \"17\", \"20\", \"68\", \"68\", \"50\", …\n",
            "$ P5130     \u001b[3m\u001b[90m<dbl>\u001b[39m\u001b[23m 400000, 500000, 250000, 600000, 2000000, 550000, 350000, 650…\n",
            "$ P5090     \u001b[3m\u001b[90m<dbl>\u001b[39m\u001b[23m 1, 4, 1, 1, 2, 1, 1, 1, 3, 3, 1, 3, 1, 3, 3, 4, 3, 1, 3, 4, …\n",
            "$ P5000     \u001b[3m\u001b[90m<dbl>\u001b[39m\u001b[23m 4, 4, 3, 4, 5, 5, 4, 4, 4, 3, 3, 4, 4, 4, 3, 3, 4, 3, 3, 6, …\n",
            "$ P5010     \u001b[3m\u001b[90m<dbl>\u001b[39m\u001b[23m 3, 3, 1, 3, 2, 3, 2, 2, 3, 2, 2, 3, 1, 3, 1, 2, 2, 1, 1, 2, …\n",
            "$ Pobre     \u001b[3m\u001b[90m<dbl>\u001b[39m\u001b[23m NA, NA, NA, NA, NA, NA, NA, NA, NA, NA, NA, NA, NA, NA, NA, …\n",
            "$ Indigente \u001b[3m\u001b[90m<dbl>\u001b[39m\u001b[23m NA, NA, NA, NA, NA, NA, NA, NA, NA, NA, NA, NA, NA, NA, NA, …\n",
            "$ Ingtot    \u001b[3m\u001b[90m<dbl>\u001b[39m\u001b[23m NA, NA, NA, NA, NA, NA, NA, NA, NA, NA, NA, NA, NA, NA, NA, …\n",
            "$ sample    \u001b[3m\u001b[90m<chr>\u001b[39m\u001b[23m \"test\", \"test\", \"test\", \"test\", \"test\", \"test\", \"test\", \"tes…\n"
          ]
        }
      ]
    },
    {
      "cell_type": "code",
      "source": [
        "#%%R\n",
        "#Ajustar las variables para que sean factores\n",
        "total_table <- total_table %>%  mutate(Clase = as.factor(Clase),\n",
        "                                       P6020 = as.factor(P6020), #sexo 1: hombre 0: mujer\n",
        "                                       Pobre = as.factor(Pobre), # Pobre=1 No pobre=0\n",
        "                                       P5090 = as.factor(P5090), #a. Propia, totalmente pagada b. Propia, la están pagando c. En arriendo o subarriendo d. En usufructo e. Posesión sin titulo (ocupante f. Otra\n",
        "                                       P6210 = as.factor(P6210), #a. Ninguno b. Preescolar c. Básica primaria (1o - 5o) d. Básica secundaria (6o - 9o) e. Media (10o - 13o) f. Superior o universitaria g. No sabe, no informa\n",
        "                                       Depto = as.factor(Depto),\n",
        "                                       P5000 = as.factor(P5000),\n",
        "                                       P5010 = as.factor(P5010),\n",
        "                                       Indigente = as.factor(Indigente)) # Indigente=1 No indigente=0\n",
        "\n",
        "glimpse(total_table)\n"
      ],
      "metadata": {
        "colab": {
          "base_uri": "https://localhost:8080/"
        },
        "id": "GygOpK1BG40H",
        "outputId": "5181fa70-fc5f-46c9-99ba-81b13bac83f6"
      },
      "execution_count": 22,
      "outputs": [
        {
          "output_type": "stream",
          "name": "stdout",
          "text": [
            "Rows: 231,128\n",
            "Columns: 17\n",
            "$ id        \u001b[3m\u001b[90m<chr>\u001b[39m\u001b[23m \"2a7ddc2779480d7f19834953\", \"a0c2e751e582fd49d564f308\", \"572…\n",
            "$ Clase     \u001b[3m\u001b[90m<fct>\u001b[39m\u001b[23m 1, 1, 0, 1, 1, 1, 1, 1, 1, 1, 1, 1, 1, 1, 1, 0, 1, 1, 1, 1, …\n",
            "$ Li        \u001b[3m\u001b[90m<dbl>\u001b[39m\u001b[23m 121449.45, 121449.45, 100763.34, 122251.78, 123664.36, 11958…\n",
            "$ Lp        \u001b[3m\u001b[90m<dbl>\u001b[39m\u001b[23m 275594.0, 275594.0, 170886.4, 294093.7, 293293.4, 283609.8, …\n",
            "$ P6020     \u001b[3m\u001b[90m<fct>\u001b[39m\u001b[23m 1, 1, 1, 0, 1, 0, 1, 1, 0, 1, 1, 0, 0, 1, 1, 1, 1, 0, 1, 0, …\n",
            "$ P6040     \u001b[3m\u001b[90m<dbl>\u001b[39m\u001b[23m 58, 41, 50, 60, 37, 67, 50, 50, 33, 33, 62, 58, 69, 42, 36, …\n",
            "$ Nper      \u001b[3m\u001b[90m<dbl>\u001b[39m\u001b[23m 5, 6, 2, 5, 2, 3, 3, 3, 3, 4, 4, 6, 1, 7, 3, 4, 3, 2, 2, 2, …\n",
            "$ P6210     \u001b[3m\u001b[90m<fct>\u001b[39m\u001b[23m 6, 5, 1, 5, 6, 4, 5, 5, 6, 5, 3, 3, 5, 3, 5, 3, 6, 6, 6, 3, …\n",
            "$ Depto     \u001b[3m\u001b[90m<fct>\u001b[39m\u001b[23m 47, 47, 17, 05, 05, 17, 20, 68, 68, 50, 76, 08, 73, 66, 54, …\n",
            "$ P5130     \u001b[3m\u001b[90m<dbl>\u001b[39m\u001b[23m 400000, 500000, 250000, 600000, 2000000, 550000, 350000, 650…\n",
            "$ P5090     \u001b[3m\u001b[90m<fct>\u001b[39m\u001b[23m 1, 4, 1, 1, 2, 1, 1, 1, 3, 3, 1, 3, 1, 3, 3, 4, 3, 1, 3, 4, …\n",
            "$ P5000     \u001b[3m\u001b[90m<fct>\u001b[39m\u001b[23m 4, 4, 3, 4, 5, 5, 4, 4, 4, 3, 3, 4, 4, 4, 3, 3, 4, 3, 3, 6, …\n",
            "$ P5010     \u001b[3m\u001b[90m<fct>\u001b[39m\u001b[23m 3, 3, 1, 3, 2, 3, 2, 2, 3, 2, 2, 3, 1, 3, 1, 2, 2, 1, 1, 2, …\n",
            "$ Pobre     \u001b[3m\u001b[90m<fct>\u001b[39m\u001b[23m NA, NA, NA, NA, NA, NA, NA, NA, NA, NA, NA, NA, NA, NA, NA, …\n",
            "$ Indigente \u001b[3m\u001b[90m<fct>\u001b[39m\u001b[23m NA, NA, NA, NA, NA, NA, NA, NA, NA, NA, NA, NA, NA, NA, NA, …\n",
            "$ Ingtot    \u001b[3m\u001b[90m<dbl>\u001b[39m\u001b[23m NA, NA, NA, NA, NA, NA, NA, NA, NA, NA, NA, NA, NA, NA, NA, …\n",
            "$ sample    \u001b[3m\u001b[90m<chr>\u001b[39m\u001b[23m \"test\", \"test\", \"test\", \"test\", \"test\", \"test\", \"test\", \"tes…\n"
          ]
        }
      ]
    },
    {
      "cell_type": "code",
      "source": [
        "#%%R\n",
        "total_table %>%\n",
        "  filter(sample == \"train\") %>%\n",
        "  glimpse()\n",
        "\n",
        "\n",
        "#Check for imbalance in Pobre\n",
        "prop.table(table(total_table$Pobre)) #79.98% de la muestra  no es pobre, 20% lo  es\n",
        "#Desbalance no es extremo pues el 20% de la muestra es la clase minoritaria, por lo que se podría decir que hay un desbalance moderado\n"
      ],
      "metadata": {
        "colab": {
          "base_uri": "https://localhost:8080/",
          "height": 399
        },
        "id": "xsQBawv1G-B-",
        "outputId": "c5006ca2-6985-47d8-a6db-92e39f122387"
      },
      "execution_count": 23,
      "outputs": [
        {
          "output_type": "stream",
          "name": "stdout",
          "text": [
            "Rows: 164,960\n",
            "Columns: 17\n",
            "$ id        \u001b[3m\u001b[90m<chr>\u001b[39m\u001b[23m \"8d0193e328305a042001a35f\", \"cf7491d7f2cc9c216bd009e7\", \"d90…\n",
            "$ Clase     \u001b[3m\u001b[90m<fct>\u001b[39m\u001b[23m 1, 1, 1, 1, 1, 1, 1, 1, 1, 1, 1, 1, 1, 1, 1, 1, 1, 1, 1, 1, …\n",
            "$ Li        \u001b[3m\u001b[90m<dbl>\u001b[39m\u001b[23m 122809.5, 122809.5, 122809.5, 122809.5, 122809.5, 122809.5, …\n",
            "$ Lp        \u001b[3m\u001b[90m<dbl>\u001b[39m\u001b[23m 289878.2, 289878.2, 289878.2, 289878.2, 289878.2, 289878.2, …\n",
            "$ P6020     \u001b[3m\u001b[90m<fct>\u001b[39m\u001b[23m 1, 1, 0, 1, 1, 1, 0, 1, 1, 1, 1, 0, 1, 1, 1, 0, 1, 0, 1, 0, …\n",
            "$ P6040     \u001b[3m\u001b[90m<dbl>\u001b[39m\u001b[23m 41, 64, 38, 43, 67, 48, 48, 51, 48, 26, 21, 22, 61, 58, 50, …\n",
            "$ Nper      \u001b[3m\u001b[90m<dbl>\u001b[39m\u001b[23m 5, 4, 3, 1, 5, 3, 1, 4, 4, 2, 1, 1, 3, 2, 3, 1, 3, 5, 2, 3, …\n",
            "$ P6210     \u001b[3m\u001b[90m<fct>\u001b[39m\u001b[23m 5, 4, 6, 3, 3, 5, 6, 6, 6, 6, 6, 6, 4, 6, 5, 3, 4, 5, 4, 4, …\n",
            "$ Depto     \u001b[3m\u001b[90m<fct>\u001b[39m\u001b[23m 05, 05, 05, 05, 05, 05, 05, 05, 05, 05, 05, 05, 05, 05, 05, …\n",
            "$ P5130     \u001b[3m\u001b[90m<dbl>\u001b[39m\u001b[23m 400000, 250000, 700000, 450000, 500000, 400000, 700000, 7500…\n",
            "$ P5090     \u001b[3m\u001b[90m<fct>\u001b[39m\u001b[23m 1, 3, 1, 1, 3, 1, 1, 1, 1, 3, 3, 3, 1, 1, 3, 4, 3, 1, 4, 1, …\n",
            "$ P5000     \u001b[3m\u001b[90m<fct>\u001b[39m\u001b[23m 4, 5, 4, 3, 4, 3, 4, 4, 4, 4, 1, 1, 4, 3, 3, 3, 3, 4, 4, 4, …\n",
            "$ P5010     \u001b[3m\u001b[90m<fct>\u001b[39m\u001b[23m 2, 4, 2, 1, 3, 2, 1, 3, 3, 1, 1, 1, 3, 1, 2, 1, 2, 3, 1, 3, …\n",
            "$ Pobre     \u001b[3m\u001b[90m<fct>\u001b[39m\u001b[23m 0, 1, 0, 0, 1, 0, 0, 0, 0, 0, 0, 0, 0, 0, 0, 0, 0, 0, 0, 0, …\n",
            "$ Indigente \u001b[3m\u001b[90m<fct>\u001b[39m\u001b[23m 0, 0, 0, 0, 0, 0, 0, 0, 0, 0, 0, 0, 0, 0, 0, 0, 0, 0, 0, 0, …\n",
            "$ Ingtot    \u001b[3m\u001b[90m<dbl>\u001b[39m\u001b[23m 501666.1, 161250.0, 1766666.7, 2000000.0, 252000.0, 790704.4…\n",
            "$ sample    \u001b[3m\u001b[90m<chr>\u001b[39m\u001b[23m \"train\", \"train\", \"train\", \"train\", \"train\", \"train\", \"train…\n"
          ]
        },
        {
          "output_type": "display_data",
          "data": {
            "text/plain": [
              "\n",
              "       0        1 \n",
              "0.799806 0.200194 "
            ]
          },
          "metadata": {}
        }
      ]
    },
    {
      "cell_type": "code",
      "source": [
        "#%%R\n",
        "head(total_table)\n",
        "table(total_table$sample) #test 66.168 | train 164.960\n",
        "colnames(total_table) <- tolower(colnames(total_table))\n",
        "names(total_table)\n",
        "\n",
        "#Check for missing values\n",
        "colSums(is.na(total_table))/nrow(total_table)*100\n",
        "\n",
        "#Check the levels of each variable\n",
        "variable_levels <- sapply(total_table, function(x) length(unique(x)))\n",
        "variable_levels\n",
        "\n",
        "#Vtable statistics\n",
        "total_table_selected<- total_table %>% select(li, lp, p6020, p6040, pobre, indigente, ingtot, p5090, p6210, p5130, p5000, p5010)\n"
      ],
      "metadata": {
        "id": "RP2cYLQJH2q9",
        "colab": {
          "base_uri": "https://localhost:8080/",
          "height": 425
        },
        "outputId": "e21ca084-f72b-4486-db85-c51e85b8ce1f"
      },
      "execution_count": 24,
      "outputs": [
        {
          "output_type": "display_data",
          "data": {
            "text/html": [
              "<table class=\"dataframe\">\n",
              "<caption>A tibble: 6 × 17</caption>\n",
              "<thead>\n",
              "\t<tr><th scope=col>id</th><th scope=col>Clase</th><th scope=col>Li</th><th scope=col>Lp</th><th scope=col>P6020</th><th scope=col>P6040</th><th scope=col>Nper</th><th scope=col>P6210</th><th scope=col>Depto</th><th scope=col>P5130</th><th scope=col>P5090</th><th scope=col>P5000</th><th scope=col>P5010</th><th scope=col>Pobre</th><th scope=col>Indigente</th><th scope=col>Ingtot</th><th scope=col>sample</th></tr>\n",
              "\t<tr><th scope=col>&lt;chr&gt;</th><th scope=col>&lt;fct&gt;</th><th scope=col>&lt;dbl&gt;</th><th scope=col>&lt;dbl&gt;</th><th scope=col>&lt;fct&gt;</th><th scope=col>&lt;dbl&gt;</th><th scope=col>&lt;dbl&gt;</th><th scope=col>&lt;fct&gt;</th><th scope=col>&lt;fct&gt;</th><th scope=col>&lt;dbl&gt;</th><th scope=col>&lt;fct&gt;</th><th scope=col>&lt;fct&gt;</th><th scope=col>&lt;fct&gt;</th><th scope=col>&lt;fct&gt;</th><th scope=col>&lt;fct&gt;</th><th scope=col>&lt;dbl&gt;</th><th scope=col>&lt;chr&gt;</th></tr>\n",
              "</thead>\n",
              "<tbody>\n",
              "\t<tr><td>2a7ddc2779480d7f19834953</td><td>1</td><td>121449.5</td><td>275594.0</td><td>1</td><td>58</td><td>5</td><td>6</td><td>47</td><td> 400000</td><td>1</td><td>4</td><td>3</td><td>NA</td><td>NA</td><td>NA</td><td>test</td></tr>\n",
              "\t<tr><td>a0c2e751e582fd49d564f308</td><td>1</td><td>121449.5</td><td>275594.0</td><td>1</td><td>41</td><td>6</td><td>5</td><td>47</td><td> 500000</td><td>4</td><td>4</td><td>3</td><td>NA</td><td>NA</td><td>NA</td><td>test</td></tr>\n",
              "\t<tr><td>57273d19e8464a5ff66a582b</td><td>0</td><td>100763.3</td><td>170886.4</td><td>1</td><td>50</td><td>2</td><td>1</td><td>17</td><td> 250000</td><td>1</td><td>3</td><td>1</td><td>NA</td><td>NA</td><td>NA</td><td>test</td></tr>\n",
              "\t<tr><td>418d052ff7878940ab938601</td><td>1</td><td>122251.8</td><td>294093.7</td><td>0</td><td>60</td><td>5</td><td>5</td><td>05</td><td> 600000</td><td>1</td><td>4</td><td>3</td><td>NA</td><td>NA</td><td>NA</td><td>test</td></tr>\n",
              "\t<tr><td>212a37fc17016a3c78f76852</td><td>1</td><td>123664.4</td><td>293293.4</td><td>1</td><td>37</td><td>2</td><td>6</td><td>05</td><td>2000000</td><td>2</td><td>5</td><td>2</td><td>NA</td><td>NA</td><td>NA</td><td>test</td></tr>\n",
              "\t<tr><td>7b0b8c4814944383d6c8cef1</td><td>1</td><td>119588.8</td><td>283609.8</td><td>0</td><td>67</td><td>3</td><td>4</td><td>17</td><td> 550000</td><td>1</td><td>5</td><td>3</td><td>NA</td><td>NA</td><td>NA</td><td>test</td></tr>\n",
              "</tbody>\n",
              "</table>\n"
            ],
            "text/markdown": "\nA tibble: 6 × 17\n\n| id &lt;chr&gt; | Clase &lt;fct&gt; | Li &lt;dbl&gt; | Lp &lt;dbl&gt; | P6020 &lt;fct&gt; | P6040 &lt;dbl&gt; | Nper &lt;dbl&gt; | P6210 &lt;fct&gt; | Depto &lt;fct&gt; | P5130 &lt;dbl&gt; | P5090 &lt;fct&gt; | P5000 &lt;fct&gt; | P5010 &lt;fct&gt; | Pobre &lt;fct&gt; | Indigente &lt;fct&gt; | Ingtot &lt;dbl&gt; | sample &lt;chr&gt; |\n|---|---|---|---|---|---|---|---|---|---|---|---|---|---|---|---|---|\n| 2a7ddc2779480d7f19834953 | 1 | 121449.5 | 275594.0 | 1 | 58 | 5 | 6 | 47 |  400000 | 1 | 4 | 3 | NA | NA | NA | test |\n| a0c2e751e582fd49d564f308 | 1 | 121449.5 | 275594.0 | 1 | 41 | 6 | 5 | 47 |  500000 | 4 | 4 | 3 | NA | NA | NA | test |\n| 57273d19e8464a5ff66a582b | 0 | 100763.3 | 170886.4 | 1 | 50 | 2 | 1 | 17 |  250000 | 1 | 3 | 1 | NA | NA | NA | test |\n| 418d052ff7878940ab938601 | 1 | 122251.8 | 294093.7 | 0 | 60 | 5 | 5 | 05 |  600000 | 1 | 4 | 3 | NA | NA | NA | test |\n| 212a37fc17016a3c78f76852 | 1 | 123664.4 | 293293.4 | 1 | 37 | 2 | 6 | 05 | 2000000 | 2 | 5 | 2 | NA | NA | NA | test |\n| 7b0b8c4814944383d6c8cef1 | 1 | 119588.8 | 283609.8 | 0 | 67 | 3 | 4 | 17 |  550000 | 1 | 5 | 3 | NA | NA | NA | test |\n\n",
            "text/latex": "A tibble: 6 × 17\n\\begin{tabular}{lllllllllllllllll}\n id & Clase & Li & Lp & P6020 & P6040 & Nper & P6210 & Depto & P5130 & P5090 & P5000 & P5010 & Pobre & Indigente & Ingtot & sample\\\\\n <chr> & <fct> & <dbl> & <dbl> & <fct> & <dbl> & <dbl> & <fct> & <fct> & <dbl> & <fct> & <fct> & <fct> & <fct> & <fct> & <dbl> & <chr>\\\\\n\\hline\n\t 2a7ddc2779480d7f19834953 & 1 & 121449.5 & 275594.0 & 1 & 58 & 5 & 6 & 47 &  400000 & 1 & 4 & 3 & NA & NA & NA & test\\\\\n\t a0c2e751e582fd49d564f308 & 1 & 121449.5 & 275594.0 & 1 & 41 & 6 & 5 & 47 &  500000 & 4 & 4 & 3 & NA & NA & NA & test\\\\\n\t 57273d19e8464a5ff66a582b & 0 & 100763.3 & 170886.4 & 1 & 50 & 2 & 1 & 17 &  250000 & 1 & 3 & 1 & NA & NA & NA & test\\\\\n\t 418d052ff7878940ab938601 & 1 & 122251.8 & 294093.7 & 0 & 60 & 5 & 5 & 05 &  600000 & 1 & 4 & 3 & NA & NA & NA & test\\\\\n\t 212a37fc17016a3c78f76852 & 1 & 123664.4 & 293293.4 & 1 & 37 & 2 & 6 & 05 & 2000000 & 2 & 5 & 2 & NA & NA & NA & test\\\\\n\t 7b0b8c4814944383d6c8cef1 & 1 & 119588.8 & 283609.8 & 0 & 67 & 3 & 4 & 17 &  550000 & 1 & 5 & 3 & NA & NA & NA & test\\\\\n\\end{tabular}\n",
            "text/plain": [
              "  id                       Clase Li       Lp       P6020 P6040 Nper P6210 Depto\n",
              "1 2a7ddc2779480d7f19834953 1     121449.5 275594.0 1     58    5    6     47   \n",
              "2 a0c2e751e582fd49d564f308 1     121449.5 275594.0 1     41    6    5     47   \n",
              "3 57273d19e8464a5ff66a582b 0     100763.3 170886.4 1     50    2    1     17   \n",
              "4 418d052ff7878940ab938601 1     122251.8 294093.7 0     60    5    5     05   \n",
              "5 212a37fc17016a3c78f76852 1     123664.4 293293.4 1     37    2    6     05   \n",
              "6 7b0b8c4814944383d6c8cef1 1     119588.8 283609.8 0     67    3    4     17   \n",
              "  P5130   P5090 P5000 P5010 Pobre Indigente Ingtot sample\n",
              "1  400000 1     4     3     NA    NA        NA     test  \n",
              "2  500000 4     4     3     NA    NA        NA     test  \n",
              "3  250000 1     3     1     NA    NA        NA     test  \n",
              "4  600000 1     4     3     NA    NA        NA     test  \n",
              "5 2000000 2     5     2     NA    NA        NA     test  \n",
              "6  550000 1     5     3     NA    NA        NA     test  "
            ]
          },
          "metadata": {}
        },
        {
          "output_type": "display_data",
          "data": {
            "text/plain": [
              "\n",
              "  test  train \n",
              " 66168 164960 "
            ]
          },
          "metadata": {}
        },
        {
          "output_type": "display_data",
          "data": {
            "text/html": [
              "<style>\n",
              ".list-inline {list-style: none; margin:0; padding: 0}\n",
              ".list-inline>li {display: inline-block}\n",
              ".list-inline>li:not(:last-child)::after {content: \"\\00b7\"; padding: 0 .5ex}\n",
              "</style>\n",
              "<ol class=list-inline><li>'id'</li><li>'clase'</li><li>'li'</li><li>'lp'</li><li>'p6020'</li><li>'p6040'</li><li>'nper'</li><li>'p6210'</li><li>'depto'</li><li>'p5130'</li><li>'p5090'</li><li>'p5000'</li><li>'p5010'</li><li>'pobre'</li><li>'indigente'</li><li>'ingtot'</li><li>'sample'</li></ol>\n"
            ],
            "text/markdown": "1. 'id'\n2. 'clase'\n3. 'li'\n4. 'lp'\n5. 'p6020'\n6. 'p6040'\n7. 'nper'\n8. 'p6210'\n9. 'depto'\n10. 'p5130'\n11. 'p5090'\n12. 'p5000'\n13. 'p5010'\n14. 'pobre'\n15. 'indigente'\n16. 'ingtot'\n17. 'sample'\n\n\n",
            "text/latex": "\\begin{enumerate*}\n\\item 'id'\n\\item 'clase'\n\\item 'li'\n\\item 'lp'\n\\item 'p6020'\n\\item 'p6040'\n\\item 'nper'\n\\item 'p6210'\n\\item 'depto'\n\\item 'p5130'\n\\item 'p5090'\n\\item 'p5000'\n\\item 'p5010'\n\\item 'pobre'\n\\item 'indigente'\n\\item 'ingtot'\n\\item 'sample'\n\\end{enumerate*}\n",
            "text/plain": [
              " [1] \"id\"        \"clase\"     \"li\"        \"lp\"        \"p6020\"     \"p6040\"    \n",
              " [7] \"nper\"      \"p6210\"     \"depto\"     \"p5130\"     \"p5090\"     \"p5000\"    \n",
              "[13] \"p5010\"     \"pobre\"     \"indigente\" \"ingtot\"    \"sample\"   "
            ]
          },
          "metadata": {}
        },
        {
          "output_type": "display_data",
          "data": {
            "text/html": [
              "<style>\n",
              ".dl-inline {width: auto; margin:0; padding: 0}\n",
              ".dl-inline>dt, .dl-inline>dd {float: none; width: auto; display: inline-block}\n",
              ".dl-inline>dt::after {content: \":\\0020\"; padding-right: .5ex}\n",
              ".dl-inline>dt:not(:first-of-type) {padding-left: .5ex}\n",
              "</style><dl class=dl-inline><dt>id</dt><dd>0</dd><dt>clase</dt><dd>0</dd><dt>li</dt><dd>0</dd><dt>lp</dt><dd>0</dd><dt>p6020</dt><dd>0.000432660690180333</dd><dt>p6040</dt><dd>0.000432660690180333</dd><dt>nper</dt><dd>0</dd><dt>p6210</dt><dd>0.000432660690180333</dd><dt>depto</dt><dd>0</dd><dt>p5130</dt><dd>0</dd><dt>p5090</dt><dd>0</dd><dt>p5000</dt><dd>0</dd><dt>p5010</dt><dd>0</dd><dt>pobre</dt><dd>28.6282925478523</dd><dt>indigente</dt><dd>28.6282925478523</dd><dt>ingtot</dt><dd>28.6282925478523</dd><dt>sample</dt><dd>0</dd></dl>\n"
            ],
            "text/markdown": "id\n:   0clase\n:   0li\n:   0lp\n:   0p6020\n:   0.000432660690180333p6040\n:   0.000432660690180333nper\n:   0p6210\n:   0.000432660690180333depto\n:   0p5130\n:   0p5090\n:   0p5000\n:   0p5010\n:   0pobre\n:   28.6282925478523indigente\n:   28.6282925478523ingtot\n:   28.6282925478523sample\n:   0\n\n",
            "text/latex": "\\begin{description*}\n\\item[id] 0\n\\item[clase] 0\n\\item[li] 0\n\\item[lp] 0\n\\item[p6020] 0.000432660690180333\n\\item[p6040] 0.000432660690180333\n\\item[nper] 0\n\\item[p6210] 0.000432660690180333\n\\item[depto] 0\n\\item[p5130] 0\n\\item[p5090] 0\n\\item[p5000] 0\n\\item[p5010] 0\n\\item[pobre] 28.6282925478523\n\\item[indigente] 28.6282925478523\n\\item[ingtot] 28.6282925478523\n\\item[sample] 0\n\\end{description*}\n",
            "text/plain": [
              "          id        clase           li           lp        p6020        p6040 \n",
              "0.000000e+00 0.000000e+00 0.000000e+00 0.000000e+00 4.326607e-04 4.326607e-04 \n",
              "        nper        p6210        depto        p5130        p5090        p5000 \n",
              "0.000000e+00 4.326607e-04 0.000000e+00 0.000000e+00 0.000000e+00 0.000000e+00 \n",
              "       p5010        pobre    indigente       ingtot       sample \n",
              "0.000000e+00 2.862829e+01 2.862829e+01 2.862829e+01 0.000000e+00 "
            ]
          },
          "metadata": {}
        },
        {
          "output_type": "display_data",
          "data": {
            "text/html": [
              "<style>\n",
              ".dl-inline {width: auto; margin:0; padding: 0}\n",
              ".dl-inline>dt, .dl-inline>dd {float: none; width: auto; display: inline-block}\n",
              ".dl-inline>dt::after {content: \":\\0020\"; padding-right: .5ex}\n",
              ".dl-inline>dt:not(:first-of-type) {padding-left: .5ex}\n",
              "</style><dl class=dl-inline><dt>id</dt><dd>231128</dd><dt>clase</dt><dd>2</dd><dt>li</dt><dd>300</dd><dt>lp</dt><dd>300</dd><dt>p6020</dt><dd>3</dd><dt>p6040</dt><dd>96</dd><dt>nper</dt><dd>23</dd><dt>p6210</dt><dd>8</dd><dt>depto</dt><dd>24</dd><dt>p5130</dt><dd>840</dd><dt>p5090</dt><dd>6</dd><dt>p5000</dt><dd>19</dd><dt>p5010</dt><dd>11</dd><dt>pobre</dt><dd>3</dd><dt>indigente</dt><dd>3</dd><dt>ingtot</dt><dd>65200</dd><dt>sample</dt><dd>2</dd></dl>\n"
            ],
            "text/markdown": "id\n:   231128clase\n:   2li\n:   300lp\n:   300p6020\n:   3p6040\n:   96nper\n:   23p6210\n:   8depto\n:   24p5130\n:   840p5090\n:   6p5000\n:   19p5010\n:   11pobre\n:   3indigente\n:   3ingtot\n:   65200sample\n:   2\n\n",
            "text/latex": "\\begin{description*}\n\\item[id] 231128\n\\item[clase] 2\n\\item[li] 300\n\\item[lp] 300\n\\item[p6020] 3\n\\item[p6040] 96\n\\item[nper] 23\n\\item[p6210] 8\n\\item[depto] 24\n\\item[p5130] 840\n\\item[p5090] 6\n\\item[p5000] 19\n\\item[p5010] 11\n\\item[pobre] 3\n\\item[indigente] 3\n\\item[ingtot] 65200\n\\item[sample] 2\n\\end{description*}\n",
            "text/plain": [
              "       id     clase        li        lp     p6020     p6040      nper     p6210 \n",
              "   231128         2       300       300         3        96        23         8 \n",
              "    depto     p5130     p5090     p5000     p5010     pobre indigente    ingtot \n",
              "       24       840         6        19        11         3         3     65200 \n",
              "   sample \n",
              "        2 "
            ]
          },
          "metadata": {}
        }
      ]
    },
    {
      "cell_type": "code",
      "source": [
        "#%%R\n",
        "##Convert to tibble to make it go faster\n",
        "total_table <- as_tibble(total_table)\n",
        "\n",
        "#Divide the total data to keep only the wanted training data variables (total income, age, sex)\n",
        "train_data <- total_table  %>% filter(sample==\"train\")  %>% select(li, lp, p6020, p6040, p5090, nper, p6210, depto, p5130, p5000, p5010, pobre, indigente, ingtot)  %>% na.omit()\n",
        "\n",
        "variables_numericas <- c(\"p5130\", \"li\", \"lp\", \"ingtot\")\n",
        "escalador <- preProcess(train_data[, variables_numericas],\n",
        "                        method = c(\"center\", \"scale\"))\n",
        "\n",
        "train_data[, variables_numericas] <- predict(escalador, train_data[, variables_numericas])\n",
        "\n",
        "train_data <- train_data  %>% mutate(p6020=factor(p6020,levels=c(0,1),labels=c(\"Woman\",\"Man\")))\n",
        "\n",
        "# Calculate the percentage of zeros in the ingtot column\n",
        "percentage_zeros <- 100 * mean(train_data$ingtot == 0, na.rm = TRUE)\n",
        "print(percentage_zeros) # <1% are zeros. We will drop those observations\n",
        "\n",
        "#Drop zeros in ingtot\n",
        "train_data <- subset(train_data, ingtot != 0)\n",
        "colSums(is.na(train_data))/nrow(train_data)*100"
      ],
      "metadata": {
        "colab": {
          "base_uri": "https://localhost:8080/",
          "height": 69
        },
        "id": "23PdZBC2IFU4",
        "outputId": "95e94c09-2681-4690-b3e0-70d7f72921fb"
      },
      "execution_count": 25,
      "outputs": [
        {
          "output_type": "stream",
          "name": "stdout",
          "text": [
            "[1] 0\n"
          ]
        },
        {
          "output_type": "display_data",
          "data": {
            "text/html": [
              "<style>\n",
              ".dl-inline {width: auto; margin:0; padding: 0}\n",
              ".dl-inline>dt, .dl-inline>dd {float: none; width: auto; display: inline-block}\n",
              ".dl-inline>dt::after {content: \":\\0020\"; padding-right: .5ex}\n",
              ".dl-inline>dt:not(:first-of-type) {padding-left: .5ex}\n",
              "</style><dl class=dl-inline><dt>li</dt><dd>0</dd><dt>lp</dt><dd>0</dd><dt>p6020</dt><dd>0</dd><dt>p6040</dt><dd>0</dd><dt>p5090</dt><dd>0</dd><dt>nper</dt><dd>0</dd><dt>p6210</dt><dd>0</dd><dt>depto</dt><dd>0</dd><dt>p5130</dt><dd>0</dd><dt>p5000</dt><dd>0</dd><dt>p5010</dt><dd>0</dd><dt>pobre</dt><dd>0</dd><dt>indigente</dt><dd>0</dd><dt>ingtot</dt><dd>0</dd></dl>\n"
            ],
            "text/markdown": "li\n:   0lp\n:   0p6020\n:   0p6040\n:   0p5090\n:   0nper\n:   0p6210\n:   0depto\n:   0p5130\n:   0p5000\n:   0p5010\n:   0pobre\n:   0indigente\n:   0ingtot\n:   0\n\n",
            "text/latex": "\\begin{description*}\n\\item[li] 0\n\\item[lp] 0\n\\item[p6020] 0\n\\item[p6040] 0\n\\item[p5090] 0\n\\item[nper] 0\n\\item[p6210] 0\n\\item[depto] 0\n\\item[p5130] 0\n\\item[p5000] 0\n\\item[p5010] 0\n\\item[pobre] 0\n\\item[indigente] 0\n\\item[ingtot] 0\n\\end{description*}\n",
            "text/plain": [
              "       li        lp     p6020     p6040     p5090      nper     p6210     depto \n",
              "        0         0         0         0         0         0         0         0 \n",
              "    p5130     p5000     p5010     pobre indigente    ingtot \n",
              "        0         0         0         0         0         0 "
            ]
          },
          "metadata": {}
        }
      ]
    },
    {
      "cell_type": "code",
      "source": [
        "#%%R\n",
        "\n",
        "# Create a sequential neural network\n",
        "model <- keras_model_sequential()\n",
        "\n",
        "# Add layers to the network\n",
        "model %>%\n",
        "  layer_dense(units = 32, activation = \"relu\", input_shape = c(3)) %>%\n",
        "  layer_dense(units = 16, activation = \"relu\") %>%\n",
        "  layer_dense(units = 1, activation = \"sigmoid\")\n",
        "\n",
        "# Compile the model\n",
        "model %>% compile(\n",
        "  loss = \"binary_crossentropy\",\n",
        "  optimizer = optimizer_adam(),\n",
        "  metrics = \"accuracy\"\n",
        ")\n"
      ],
      "metadata": {
        "id": "FRZ3VfRJjw2s"
      },
      "execution_count": 26,
      "outputs": []
    },
    {
      "cell_type": "code",
      "source": [
        "#%%R\n",
        "# Assuming you have your data in a dataframe called 'data_df'\n",
        "#predictors <- as.matrix(total_table[, c(\"p6020\", \"p6040\", \"p6210\")])\n",
        "#target <- as.numeric(total_table$pobre)  # Assuming poverty_status is a binary variable (0 or 1)\n",
        "\n",
        "\n",
        "\n"
      ],
      "metadata": {
        "id": "tkorEpWRGKxS"
      },
      "execution_count": null,
      "outputs": []
    },
    {
      "cell_type": "code",
      "source": [
        "#%%R\n",
        "names(total_table)"
      ],
      "metadata": {
        "colab": {
          "base_uri": "https://localhost:8080/"
        },
        "id": "W5cP5NbkbAb2",
        "outputId": "3361a3e9-07e5-45a5-fac0-03b0975092c5"
      },
      "execution_count": null,
      "outputs": [
        {
          "output_type": "stream",
          "name": "stdout",
          "text": [
            " [1] \"id\"        \"clase\"     \"li\"        \"lp\"        \"p6020\"     \"p6040\"    \n",
            " [7] \"nper\"      \"p6210\"     \"depto\"     \"p5130\"     \"p5090\"     \"p5000\"    \n",
            "[13] \"p5010\"     \"pobre\"     \"indigente\" \"ingtot\"    \"sample\"   \n"
          ]
        }
      ]
    },
    {
      "cell_type": "code",
      "source": [
        "#%%R\n",
        "#x_train <- total_table  %>% filter(sample==\"train\")  %>% select(p6020, p6040, p6210)  %>% na.omit()\n",
        "#y_train <- total_table  %>% filter(sample==\"train\")  %>% select(pobre)  %>% na.omit()\n",
        "#x_test <- total_table  %>% filter(sample==\"test\")  %>% select(p6020, p6040, p6210)  %>% na.omit()\n",
        "#y_test <- total_table  %>% filter(sample==\"test\")  %>% select(pobre)  %>% na.omit()\n",
        "\n",
        "\n"
      ],
      "metadata": {
        "id": "KDDZnTi_ZGf5"
      },
      "execution_count": null,
      "outputs": []
    },
    {
      "cell_type": "code",
      "source": [
        "#%%R\n",
        "# Filter and process the data\n",
        "x_train <- total_table %>%\n",
        "  filter(sample == \"train\") %>%\n",
        "  select(p6020, p6040, p6210) %>%\n",
        "  na.omit()\n",
        "\n",
        "y_train <- total_table %>%\n",
        "  filter(sample == \"train\") %>%\n",
        "  pull(pobre) %>%\n",
        "  na.omit()\n",
        "\n",
        "x_test <- total_table %>%\n",
        "  filter(sample == \"test\") %>%\n",
        "  select(p6020, p6040, p6210) %>%\n",
        "  na.omit()\n",
        "\n",
        "y_test <- total_table %>%\n",
        "  filter(sample == \"test\") %>%\n",
        "  pull(pobre) %>%\n",
        "  na.omit()"
      ],
      "metadata": {
        "id": "UMq72Eq8ny9_"
      },
      "execution_count": 27,
      "outputs": []
    },
    {
      "cell_type": "code",
      "source": [
        "#%%R\n",
        "# Convert factors to character strings in y_train and y_test\n",
        "y_train <- as.character(y_train)\n",
        "y_test <- as.character(y_test)\n",
        "\n",
        "# Convert x_train and x_test to matrices\n",
        "x_train <- as.matrix(x_train)\n",
        "x_test <- as.matrix(x_test)\n",
        "\n",
        "# Convert y_train and y_test to factors\n",
        "y_train <- as.factor(y_train)\n",
        "y_test <- as.factor(y_test)"
      ],
      "metadata": {
        "id": "8mkzG0bCk2Tf"
      },
      "execution_count": 42,
      "outputs": []
    },
    {
      "cell_type": "code",
      "source": [
        "#%%R\n",
        "# Train the model\n",
        "model %>% fit(\n",
        "  x_train, y_train,\n",
        "  epochs = 50,\n",
        "  batch_size = 32,\n",
        "  validation_data = list(x_test, y_test)\n",
        ")"
      ],
      "metadata": {
        "colab": {
          "base_uri": "https://localhost:8080/",
          "height": 287
        },
        "id": "5RFfT14ToKIS",
        "outputId": "04599b48-35e5-4a56-aa8d-1d7e8658a274"
      },
      "execution_count": 34,
      "outputs": [
        {
          "output_type": "error",
          "ename": "ERROR",
          "evalue": "ignored",
          "traceback": [
            "'list' object has no attribute 'dtype'Traceback:\n",
            "1. model %>% fit(x_train, y_train, epochs = 50)",
            "2. fit(., x_train, y_train, epochs = 50)",
            "3. fit.keras.engine.training.Model(., x_train, y_train, epochs = 50)",
            "4. append(args, resolve_input_data(x, y))",
            "5. resolve_input_data(x, y)",
            "6. keras_array(y)",
            "7. x$dtype",
            "8. `$.python.builtin.object`(x, \"dtype\")",
            "9. py_get_attr_or_item(x, name, TRUE)",
            "10. py_get_attr(x, name)",
            "11. py_get_attr_impl(x, name, silent)"
          ]
        }
      ]
    },
    {
      "cell_type": "code",
      "source": [
        "#%%R\n",
        "x_train <- x_train %>% mutate(p6020 = as.factor(p6020),\n",
        "                              p6040 = as.vector(p6040),\n",
        "                              p6210 = as.factor(p6210))\n",
        "\n",
        "x_test <- x_test %>% mutate(p6020 = as.factor(p6020),\n",
        "                              p6040 = as.vector(p6040),\n",
        "                              p6210 = as.factor(p6210))\n",
        "\n"
      ],
      "metadata": {
        "id": "psGxZVZPitj2",
        "colab": {
          "base_uri": "https://localhost:8080/",
          "height": 183
        },
        "outputId": "e5afed3c-c2b6-48d2-9bd8-830cb268d88c"
      },
      "execution_count": 33,
      "outputs": [
        {
          "output_type": "error",
          "ename": "ERROR",
          "evalue": "ignored",
          "traceback": [
            "Error in UseMethod(\"mutate\"): no applicable method for 'mutate' applied to an object of class \"c('matrix', 'array', 'character')\"\nTraceback:\n",
            "1. x_train %>% mutate(p6020 = as.factor(p6020), p6040 = as.vector(p6040), \n .     p6210 = as.factor(p6210))",
            "2. mutate(., p6020 = as.factor(p6020), p6040 = as.vector(p6040), \n .     p6210 = as.factor(p6210))"
          ]
        }
      ]
    },
    {
      "cell_type": "code",
      "source": [
        "%%R\n",
        "y_train <- y_train %>% mutate(pobre = as.factor(pobre))\n",
        "\n",
        "y_test <- y_test %>% mutate(pobre = as.factor(pobre))\n"
      ],
      "metadata": {
        "id": "Ma-EnDPkmCye"
      },
      "execution_count": null,
      "outputs": []
    },
    {
      "cell_type": "code",
      "source": [
        "#%%R\n",
        "# Train the model\n",
        "model %>% fit(\n",
        "  x_train, y_train,\n",
        "  epochs = 50,\n",
        "  batch_size = 32,\n",
        "  validation_data = list(x_test, y_test)\n",
        ")\n"
      ],
      "metadata": {
        "colab": {
          "base_uri": "https://localhost:8080/",
          "height": 339
        },
        "id": "pwn1Ea75b9w0",
        "outputId": "a20f82d7-0995-4ff7-e7a4-906696c9b57c"
      },
      "execution_count": 40,
      "outputs": [
        {
          "output_type": "error",
          "ename": "ERROR",
          "evalue": "ignored",
          "traceback": [
            "'list' object has no attribute 'dtype'Traceback:\n",
            "1. model %>% fit(x_train, y_train, epochs = 50, batch_size = 32, \n .     validation_data = list(x_test, y_test))",
            "2. fit(., x_train, y_train, epochs = 50, batch_size = 32, validation_data = list(x_test, \n .     y_test))",
            "3. fit.keras.engine.training.Model(., x_train, y_train, epochs = 50, \n .     batch_size = 32, validation_data = list(x_test, y_test))",
            "4. append(args, resolve_input_data(x, y))",
            "5. resolve_input_data(x, y)",
            "6. keras_array(y)",
            "7. x$dtype",
            "8. `$.python.builtin.object`(x, \"dtype\")",
            "9. py_get_attr_or_item(x, name, TRUE)",
            "10. py_get_attr(x, name)",
            "11. py_get_attr_impl(x, name, silent)"
          ]
        }
      ]
    },
    {
      "cell_type": "code",
      "source": [],
      "metadata": {
        "id": "sGDaAas1d_6C"
      },
      "execution_count": null,
      "outputs": []
    },
    {
      "cell_type": "code",
      "source": [],
      "metadata": {
        "id": "RLkvwKL4IKJ-"
      },
      "execution_count": null,
      "outputs": []
    }
  ]
}